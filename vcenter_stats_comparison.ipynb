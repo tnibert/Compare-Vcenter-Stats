{
 "cells": [
  {
   "cell_type": "code",
   "execution_count": null,
   "metadata": {},
   "outputs": [],
   "source": [
    "import pandas as pd\n",
    "\n",
    "\"\"\"\n",
    "I did need to manually convert vmware xls html files to xlsx in Excel\n",
    "This will print the average of each field\n",
    "\"\"\"\n",
    "\n",
    "# exclude System.xlsx, as this is only uptime and not meaningful to me atm\n",
    "fnames = ['CPU.xlsx', 'Disk.xlsx', 'Memory.xlsx', 'Network.xlsx']\n",
    "sys1 = 'VM1'\n",
    "sys2 = 'VM2'\n",
    "sys1dir = 'VM1_small_files'\n",
    "sys2dir = 'VM1_small_files'\n",
    "\n",
    "df = { sys1: {}, sys2: {}}\n",
    "\n",
    "# load all files\n",
    "for f in fnames:\n",
    "    df[sys1][f] = pd.read_excel('{}/{}'.format(sys1dir, f))\n",
    "    df[sys2][f] = pd.read_excel('{}/{}'.format(sys2dir, f))\n",
    "\n",
    "#print(df[0]['CPU.xlsx']['Usage'].mean())\n",
    "\n",
    "# print all stats with mean\n",
    "for systemversion, dat in df.items():\n",
    "    print(\"\\n\" + systemversion)\n",
    "    for k,v in dat.items():\n",
    "        print(k)\n",
    "        for k1,v1 in v.items():\n",
    "            if(str(k1) != 'Time'):\n",
    "                print(str(k1) + \" -- mean: \" + str(v1.mean()))\n"
   ]
  },
  {
   "cell_type": "code",
   "execution_count": null,
   "metadata": {},
   "outputs": [],
   "source": [
    "import matplotlib.pyplot as plt\n",
    "\n",
    "\"\"\"\n",
    "Generate side by side graphs of each field\n",
    "\"\"\"\n",
    "\n",
    "# match stats to units and graph title\n",
    "metric_name_to_yaxis = {\n",
    "    'Disk.xlsxUsage': ('Kbps', 'Disk Usage'),\n",
    "    'Disk.xlsxHighest latency': ('Milliseconds', 'Disk Latency'),\n",
    "    'CPU.xlsxUsage': ('Percent', 'CPU Usage'),\n",
    "    'CPU.xlsxUsage in MHz': ('MHz', 'CPU Usage in MHz'),\n",
    "    'Memory.xlsxConsumed': ('Kb', 'Memory Consumed'),\n",
    "    'Memory.xlsxBalloon': ('Kb', 'Memory Balloon Allocation'),\n",
    "    'Network.xlsxUsage': ('Mbps', 'Network Usage in 5 Min Interval')\n",
    "}\n",
    "\n",
    "for filename,statsdict in df[sys1].items():\n",
    "    \n",
    "    for metricname,data in statsdict.items():\n",
    "        if(str(metricname) != 'Time'):\n",
    "            # create figure and axes\n",
    "            fig = plt.figure()\n",
    "            fig, ax = plt.subplots()\n",
    "            fig.suptitle(metric_name_to_yaxis[filename+metricname][1], fontsize=20)\n",
    "            ax.ticklabel_format(style='plain')\n",
    "            plt.xlabel('Time (24 hours)', fontsize=16)\n",
    "            plt.ylabel(metric_name_to_yaxis[filename+metricname][0], fontsize=16)\n",
    "            \n",
    "            # plot\n",
    "            data.plot(color='blue', grid=True)\n",
    "            df[sys2][filename][metricname].plot(color='red', grid=True)\n",
    "            \n",
    "            # save to file\n",
    "            plt.savefig(\"comparison graphs - {}.png\".format(metric_name_to_yaxis[filename+metricname][1]))\n",
    "            "
   ]
  }
 ],
 "metadata": {
  "kernelspec": {
   "display_name": "Python 3",
   "language": "python",
   "name": "python3"
  },
  "language_info": {
   "codemirror_mode": {
    "name": "ipython",
    "version": 3
   },
   "file_extension": ".py",
   "mimetype": "text/x-python",
   "name": "python",
   "nbconvert_exporter": "python",
   "pygments_lexer": "ipython3",
   "version": "3.6.7"
  }
 },
 "nbformat": 4,
 "nbformat_minor": 2
}
